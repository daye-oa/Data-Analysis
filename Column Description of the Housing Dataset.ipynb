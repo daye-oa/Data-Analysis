{
 "cells": [
  {
   "cell_type": "markdown",
   "metadata": {},
   "source": [
    " ## Column Description for The Housing Dataset"
   ]
  },
  {
   "cell_type": "code",
   "execution_count": null,
   "metadata": {},
   "outputs": [],
   "source": [
    "price = The price of the building when its not in the estate\n",
    "Bederooms = Number of bedrooms\n",
    "Bathrooms = Numberer of bathrooms\n",
    "Toilet = Number of Toilet\n",
    "Estate_flag = is the building in an estate or not\n",
    "terrace_flag = class of its architecture\n",
    "new_flag = degree of newness\n",
    "serviced_flag = Do the locality has any service like security or cleaner\n",
    "estate_price = Price of the building in the estate\n",
    "serviced_price = Price of the estate with serviced_flag(Definitely in the estate)\n",
    "location_rank = rank of the estate with location\n",
    "new_price = price of its new counterpart\n",
    "exec_flag = level of how executive it is.\n",
    "locationbed = sub_location\n",
    "location = location\n",
    "spec_location = full location address\n",
    "description = description"
   ]
  }
 ],
 "metadata": {
  "kernelspec": {
   "display_name": "Python 3",
   "language": "python",
   "name": "python3"
  },
  "language_info": {
   "codemirror_mode": {
    "name": "ipython",
    "version": 3
   },
   "file_extension": ".py",
   "mimetype": "text/x-python",
   "name": "python",
   "nbconvert_exporter": "python",
   "pygments_lexer": "ipython3",
   "version": "3.7.7"
  },
  "toc": {
   "base_numbering": 1,
   "nav_menu": {},
   "number_sections": true,
   "sideBar": true,
   "skip_h1_title": false,
   "title_cell": "Table of Contents",
   "title_sidebar": "Contents",
   "toc_cell": false,
   "toc_position": {},
   "toc_section_display": true,
   "toc_window_display": false
  }
 },
 "nbformat": 4,
 "nbformat_minor": 4
}
